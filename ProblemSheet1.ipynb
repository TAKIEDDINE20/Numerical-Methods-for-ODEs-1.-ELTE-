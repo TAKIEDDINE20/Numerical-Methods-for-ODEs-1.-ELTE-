{
 "cells": [
  {
   "cell_type": "markdown",
   "metadata": {},
   "source": [
    "# Numerical methods for ODEs 1.\n",
    "<br>\n",
    "<br>\n",
    "## Imre Fekete\n",
    "### Department of Applied Analysis and Computational Mathematics\n",
    "### Eötvös Loránd University"
   ]
  },
  {
   "cell_type": "markdown",
   "metadata": {
    "slideshow": {
     "slide_type": "slide"
    }
   },
   "source": [
    "<img src=\"cimer2.jpg\" width=\"400\">\n",
    "<br>\n",
    "<br>\n",
    "<br>\n",
    "<br>\n",
    "\n",
    "### General information:\n",
    "+ <span class=\"fa fa-building-o\"></span> Southern Bldg. 3.702\n",
    "+ Website: <a href=\"http://imrefekete.web.elte.hu/\" target=\"_blank\"> http://imrefekete.web.elte.hu/</a>\n",
    "<br><br>\n",
    "\n",
    "### Literature:\n",
    "<br>\n",
    "#### Lecture Notes (Eötvös Loránd University)\n",
    "+ <a href=\"http://tankonyvtar.ttk.bme.hu/authorlistp.jsp?bookId=77\"> István Faragó: Numerical Methods for Ordinary Differential Equations</a>\n",
    "\n",
    "#### Introductory MATLAB\n",
    "+ Cleve B. Moler: Numerical Computing with MATLAB\n",
    "+ Stoyan Gisvert: MATLAB (in Hungarian)\n",
    "\n",
    "#### Recommended and Further literature\n",
    "+ Hairer, Norsett, Wanner: Solving Ordinary Differential Equations I, Nonstiff Problems \n",
    "+ Hairer, Wanner: Solving Ordinary Differential Equations II,\n",
    "Stiff and Differential-Algebraic Problems\n",
    "+ Randy LeVeque: Finite Difference Methods for Ordinary and Partial Differential Equations, Steady State and Time Dependent Problems\n",
    "+ Uri Ascher: Numerical Methods for Evolutionary Differential Equations\n",
    "\n",
    "For further literature please ask it personally since it is huge\n",
    "<br><br>\n"
   ]
  },
  {
   "cell_type": "markdown",
   "metadata": {},
   "source": [
    "<br>\n",
    "<br>\n",
    "## Introduction"
   ]
  },
  {
   "cell_type": "markdown",
   "metadata": {
    "slideshow": {
     "slide_type": "slide"
    }
   },
   "source": [
    "### Differential equations and the modeling process \n",
    "\n",
    "How can we model real-life phenomena? Here it is a nice youtube lecture about modeling: <a href=\"https://www.youtube.com/watch?v=DNznngs_H2I\"> link </a><br>\n",
    "\n",
    "+ Data-driven (new approach --> based on data)\n",
    "+ Principle based (classical approach --> based on physical phenomena)\n",
    "\n",
    "The modeling process is a complex process:\n",
    "<br>\n",
    "<br>\n",
    "\n",
    "\n",
    "<div style=\"float:center\"><img src=\"modell.jpg\" width=\"870\" title=\"Thom Dunning Jr., SciDAC programme (2000)\"/></div> \n",
    "\n",
    "<br>\n",
    "\n",
    "We are focusing on the step Mathematical models --> Scientific codes. More precisely\n",
    "\n",
    "<div style=\"float:left\"><img src=\"ZeroStabNTNU.png\" width=\"870\" title=\"General discretization scheme, based on Gustaf Söderlind's figure\"/></div> \n"
   ]
  },
  {
   "cell_type": "markdown",
   "metadata": {},
   "source": [
    "<br>\n",
    "<br>\n",
    "## <center>Problem Sheet #1 </center>\n",
    "\n",
    "\n",
    "### Stability of differential equations \n",
    "<br>\n",
    "#### Classical stability and the <a href=\"https://en.wikipedia.org/wiki/Germund_Dahlquist\">Dahlquist</a>'s test problem<br>\n",
    "\n",
    "<b>Problem 1.</b> Calculate the stability regions of the explicit (forward) and implicit (backward) Euler methods! Are these methods A-stable methods?\n",
    "<br>"
   ]
  },
  {
   "cell_type": "code",
   "execution_count": 1,
   "metadata": {},
   "outputs": [
    {
     "data": {
      "image/png": "[encoded data removed]",
      "text/plain": [
       "<IPython.core.display.Image object>"
      ]
     },
     "metadata": {},
     "output_type": "display_data"
    }
   ],
   "source": [
    "% Explicit (Forward) Euler\n",
    "[X,Y] = meshgrid(linspace(-5,5), linspace(-5,5));\n",
    "Z = X+Y*1i;\n",
    "phi = 1./(1-Z);\n",
    "contourf(X,Y,1-abs(phi), [0 0], 'LineWidth', 1);\n",
    "set(gca,'FontSize', 10, 'CLim', [0 1]);\n",
    "colormap([.1 .5 .3; 0 0 0; 1 1 1]);\n",
    "hold on;\n",
    "plot([-5 5], [0 0], '--k', 'LineWidth', 1);\n",
    "plot([0 0], [-5 5], '--k', 'LineWidth', 1);\n",
    "axis('square');\n",
    "title('Absolute stability region of Explicit Euler method')"
   ]
  },
  {
   "cell_type": "markdown",
   "metadata": {},
   "source": [
    "Other technique for Explicit Euler <a href=\"http://math.boisestate.edu/~wright/courses/m566/StabilityDomains/html/StabilityDomains.html\">  Link </a>"
   ]
  },
  {
   "cell_type": "code",
   "execution_count": 11,
   "metadata": {},
   "outputs": [
    {
     "data": {
      "image/png": "[encoded data removed]",
      "text/plain": [
       "<IPython.core.display.Image object>"
      ]
     },
     "metadata": {},
     "output_type": "display_data"
    }
   ],
   "source": [
    "% Other technique for Explicit Euler\n",
    "\n",
    "N = 1000;\n",
    "th = linspace(0,2*pi,N);\n",
    "r = exp(1i*th);\n",
    "\n",
    "f = @(r) r-1;\n",
    "xi = f(r);\n",
    "plot(xi,'k-','LineWidth',1), hold on\n",
    "fill(real(xi),imag(xi),[221 221 221]/300)\n",
    "plot([min(real(xi)) max(real(xi))],[0 0],'b--','LineWidth',1)\n",
    "plot([0 0],[min(imag(xi)) max(imag(xi))],'b--','LineWidth',1)\n",
    "axis tight, axis equal, hold off"
   ]
  },
  {
   "cell_type": "code",
   "execution_count": 2,
   "metadata": {},
   "outputs": [
    {
     "data": {
      "image/png": "[encoded data removed]",
      "text/plain": [
       "<IPython.core.display.Image object>"
      ]
     },
     "metadata": {},
     "output_type": "display_data"
    }
   ],
   "source": [
    "%% Implicit Euler\n",
    "% Fill out"
   ]
  },
  {
   "cell_type": "code",
   "execution_count": null,
   "metadata": {
    "collapsed": true
   },
   "outputs": [],
   "source": []
  },
  {
   "cell_type": "markdown",
   "metadata": {},
   "source": [
    "<br>\n",
    "\n",
    "<b>Problem 2.</b> [Extra] Let us consider the test problem\n",
    "\n",
    "\\begin{cases}\n",
    "u'(t)= \\lambda u(t),\\ \\ \\ t\\in[0,\\infty),\\ \\lambda\\in\\mathbb{R}&\\\\\n",
    "u(0)=1. &\n",
    "\\end{cases}\n",
    "\n",
    "Below we can see for different $\\lambda$ values the global error for the given numerical method at $t=1$.\n",
    "<br>\n",
    "\n",
    "<table cellpadding=\"3px\" cellspacing=\"0px\">\n",
    "<tr>\n",
    "<td style=\"border-right:1px solid;\">h</td>\n",
    "<td >$\\lambda$=-9 and EE</td>\n",
    "<td >$\\lambda$=-9 and IE</td>\n",
    "<td >$\\lambda$=-99 and EE</td>\n",
    "<td >$\\lambda$=-99 and IE</td>\n",
    "<td >$\\lambda$=-999 and EE</td>\n",
    "<td >$\\lambda$=-999 and IE</td>\n",
    "</tr>\n",
    "<tr>\n",
    "<td style=\"border-right:1px solid; border-bottom:1px solid;\">0.1</td>\n",
    "<td style=\"border-bottom:1px solid;\"> 3.07e-01</td>\n",
    "<td style=\"border-bottom:1px solid;\"> 1.20e-01</td>\n",
    "<td style=\"border-bottom:1px solid;\"> 3.12e+09</td>\n",
    "<td style=\"border-bottom:1px solid;\"> 9.17e-02</td>\n",
    "<td style=\"border-bottom:1px solid;\"> 8.95e+19</td>\n",
    "<td style=\"border-bottom:1px solid;\"> 9.93e-03</td>\n",
    "<tr>\n",
    "<td style=\"border-right:1px solid; border-bottom:1px solid;\">0.01</td>\n",
    "<td style=\"border-bottom:1px solid;\">1.72e-02</td>\n",
    "<td style=\"border-bottom:1px solid;\">1.60e-02</td>\n",
    "<td style=\"border-bottom:1px solid;\">3.62e-01</td>\n",
    "<td style=\"border-bottom:1px solid;\">1.31e-012</td>\n",
    "<td style=\"border-bottom:1px solid;\">2.38e+95</td>\n",
    "<td style=\"border-bottom:1px solid;\">9.09e-02</td>\n",
    "</tr><tr>\n",
    "<td style=\"border-right:1px solid; border-bottom:1px solid;\">0.001</td>\n",
    "<td style=\"border-bottom:1px solid;\">1.71e-03</td>\n",
    "<td style=\"border-bottom:1px solid;\">1.60e-03</td>\n",
    "<td style=\"border-bottom:1px solid;\">1.90e-02</td>\n",
    "<td style=\"border-bottom:1px solid;\">1.75e-02</td>\n",
    "<td style=\"border-bottom:1px solid;\">3.67e-01</td>\n",
    "<td style=\"border-bottom:1px solid;\">1.32e-01</td>\n",
    "</tr><tr>\n",
    "<td style=\"border-right:1px solid; border-bottom:1px solid;\">0.0001</td>\n",
    "<td style=\"border-bottom:1px solid;\">1.66e-04</td>\n",
    "<td style=\"border-bottom:1px solid;\">1.65e-04</td>\n",
    "<td style=\"border-bottom:1px solid;\">1.78e-03</td>\n",
    "<td style=\"border-bottom:1px solid;\">1.68e-03</td>\n",
    "<td style=\"border-bottom:1px solid;\">1.92e-02</td>\n",
    "<td style=\"border-bottom:1px solid;\">1.76e-02</td>\n",
    "</tr><tr>\n",
    "<td style=\"border-right:1px solid; border-bottom:1px solid;\">0.00001</td>\n",
    "<td style=\"border-bottom:1px solid;\">1.66e-05</td>\n",
    "<td style=\"border-bottom:1px solid;\">1.65e-05</td>\n",
    "<td style=\"border-bottom:1px solid;\">1.82e-04</td>\n",
    "<td style=\"border-bottom:1px solid;\">1.82e-04</td>\n",
    "<td style=\"border-bottom:1px solid;\">1.83e-03</td>\n",
    "<td style=\"border-bottom:1px solid;\">1.83e-03</td>\n",
    "</tr>\n",
    "</table>\n",
    "\n",
    "<br>\n",
    "\n",
    "Give an explanation for the above table, i.e. explain that why the explicit and implicit Euler methods are working so differently for different step-size values.\n",
    "<br>\n",
    "<br>"
   ]
  },
  {
   "cell_type": "markdown",
   "metadata": {},
   "source": [
    "<b>Problem 3.</b> Calculate the stability region of the trapezoidal method. Is it an A-stable method?\n",
    "<br>\n",
    "<br>\n",
    "\n",
    "[Extra] Give precise answers for the questions regarding the trapezoidal method.\n",
    "\n",
    "(a) How does the method behave for negative real $\\lambda$ values ($|\\lambda|>>1$)?<br>\n",
    "\n",
    "(b) How does the method behave for $h>2/(-\\lambda),\\ \\lambda\\in\\mathbb{R}^{-}$?"
   ]
  }
 ],
 "metadata": {
  "kernelspec": {
   "display_name": "Octave",
   "language": "octave",
   "name": "octave"
  },
  "language_info": {
   "file_extension": ".m",
   "help_links": [
    {
     "text": "GNU Octave",
     "url": "https://www.gnu.org/software/octave/support.html"
    },
    {
     "text": "Octave Kernel",
     "url": "https://github.com/Calysto/octave_kernel"
    },
    {
     "text": "MetaKernel Magics",
     "url": "https://github.com/calysto/metakernel/blob/master/metakernel/magics/README.md"
    }
   ],
   "mimetype": "text/x-octave",
   "name": "octave",
   "version": "4.2.2"
  }
 },
 "nbformat": 4,
 "nbformat_minor": 1
}

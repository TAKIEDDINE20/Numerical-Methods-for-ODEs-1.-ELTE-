{
 "cells": [
  {
   "cell_type": "markdown",
   "metadata": {},
   "source": [
    "## Problem Sheet #3\n",
    "\n",
    "<br>\n",
    "## Explicit Runge-Kutta methods (ERK methods)\n",
    "<br>\n",
    "### Representations and <a href=\"https://en.wikipedia.org/wiki/John_C._Butcher\">Butcher tableau</a><br>\n",
    "\n",
    "<b>Problem 1.</b> Determine the second kind of representation for EE, RK2 and explicit trapezoidal methods. The formula for explicit trapezoidal method is\n",
    "$$y_{n+1}=y_n+h\\bigg(\\frac{1}{2}f(t_n,y_n)+\\frac{1}{2}f(t_{n+1},y_n+hf(t_n,y_n))\\bigg).$$\n",
    "<br>\n",
    "\n",
    "<b>Problem 2.</b> Determine the Butcher tableaus of the learned methods (EE, RK2, explicit trapezoidal, RK3, RK4).\n",
    "<br><br>\n",
    "\n",
    "<b>Problem 3.</b> Determine the ERK method based on its Butcher tableau.\n",
    "<br><br>\n",
    "\n",
    "(a) Kutta (1901)\n",
    "<table cellpadding=\"3px\" cellspacing=\"0px\">\n",
    "<tr>\n",
    "<td style=\"border-right:1px solid;\">0</td>\n",
    "</tr>\n",
    "<tr>\n",
    "<td style=\"border-right:1px solid;\">1/2</td>\n",
    "<td >1/2</td>\n",
    "</tr>\n",
    "<tr>\n",
    "<td style=\"border-right:1px solid; border-bottom:1px solid;\">1</td>\n",
    "<td style=\"border-bottom:1px solid;\">-1</td>\n",
    "<td style=\"border-bottom:1px solid;\">2</td>\n",
    "<td style=\"border-bottom:1px solid;\"></td>\n",
    "</tr>\n",
    "<tr>\n",
    "<td style=\"border-right:1px solid;\"></td>\n",
    "<td>1/6</td>\n",
    "<td>2/3</td>\n",
    "<td>1/6</td>\n",
    "</tr>\n",
    "</table>\n",
    "\n",
    "\n",
    "(b) Two stage second order ERK ($\\alpha\\in\\mathbb{R}\\setminus \\{0\\}$)\n",
    "<table cellpadding=\"3px\" cellspacing=\"0px\">\n",
    "<tr>\n",
    "<td style=\"border-right:1px solid;\">0</td>\n",
    "\n",
    "</tr>\n",
    "<tr>\n",
    "<td style=\"border-right:1px solid; border-bottom:1px solid;\">$\\alpha$</td>\n",
    "<td style=\"border-bottom:1px solid;\">$\\alpha$</td>\n",
    "<td style=\"border-bottom:1px solid;\"></td>\n",
    "\n",
    "</tr>\n",
    "<tr>\n",
    "<td style=\"border-right:1px solid;\"></td>\n",
    "<td>1-$\\frac{1}{2\\alpha}$</td>\n",
    "<td>$\\frac{1}{2\\alpha}$</td>\n",
    "</tr>\n",
    "</table>\n",
    "\n",
    "(c) Kutta (1901)\n",
    "<table cellpadding=\"3px\" cellspacing=\"0px\">\n",
    "<tr>\n",
    "<td style=\"border-right:1px solid;\">0</td>\n",
    "</tr>\n",
    "<tr>\n",
    "<td style=\"border-right:1px solid;\">1/2</td>\n",
    "<td>1/2</td>\n",
    "</tr>\n",
    "<tr>\n",
    "<td style=\"border-right:1px solid;\">1/2</td>\n",
    "<td>0</td>\n",
    "<td>1/2</td>\n",
    "</tr>\n",
    "<tr>\n",
    "<td style=\"border-right:1px solid; border-bottom:1px solid;\">1</td>\n",
    "<td style=\"border-bottom:1px solid;\">0</td>\n",
    "<td style=\"border-bottom:1px solid;\">0</td>\n",
    "<td style=\"border-bottom:1px solid;\">1</td>\n",
    "<td style=\"border-bottom:1px solid;\"></td>\n",
    "</tr>\n",
    "<tr>\n",
    "<td style=\"border-right:1px solid;\"></td>\n",
    "<td>1/6</td>\n",
    "<td>1/3</td>\n",
    "<td>1/3</td>\n",
    "<td>1/6</td>\n",
    "</tr>\n",
    "</table>\n",
    "\n"
   ]
  },
  {
   "cell_type": "markdown",
   "metadata": {},
   "source": [
    "<br>\n",
    "<br>\n",
    "\n",
    "### Order conditions (Albrecht's approach and Butcher trees)\n",
    "<br>\n",
    "\n",
    "<b>Problem 4.</b> Check the order conditions for the EE, explicit trapezoidal, 3/(a) and 3/(c) methods by using MATLAB."
   ]
  },
  {
   "cell_type": "code",
   "execution_count": 1,
   "metadata": {},
   "outputs": [
    {
     "name": "stdout",
     "output_type": "stream",
     "text": [
      "ans = 0\n",
      "ans = 0\n",
      "ans = 0\n",
      "ans = 0\n"
     ]
    }
   ],
   "source": [
    "%% Quick check with a naive approach\n",
    "\n",
    "% Butcher tableau\n",
    "A=[0 0 0 0; 1/2 0 0 0; 0 1/2 0 0; 0 0 1 0];\n",
    "e=ones(size(A,1),1);\n",
    "c=sum(A,2);\n",
    "bt=[1/6 1/3 1/3 1/6];\n",
    "\n",
    "% Order conditions up to order 4 \n",
    "p1=[bt*e-1];\n",
    "p2=[bt*c-1/2];\n",
    "p3=[bt*c.^2-1/3, bt*A*c-1/6];\n",
    "p4=[ bt*c.^3-1/4, bt*diag(c)*A*c-1/8, bt*A*c.^2-1/12, bt*A^2*c-1/24];\n",
    "\n",
    "% Answer\n",
    "any(abs(p1)>eps)\n",
    "any(abs(p2)>eps)\n",
    "any(abs(p3)>eps)\n",
    "any(abs(p4)>eps)\n"
   ]
  },
  {
   "cell_type": "markdown",
   "metadata": {},
   "source": [
    "<b>Problem 5.</b> [Assignement] Write a program which decides the method's order up to fourth order conditions and prints the order for a given ERK method. In case of a wrong input parameter ($A$ or $b$) the program should give an error message.\n",
    "<br><br>\n",
    "\n",
    "<b>Problem 6.</b> [Assignement] Determine the fifth order conditions by using Butcher trees.<br>\n",
    "[Extra] Texing the Butcher trees up to order 5.\n",
    "<br><br>\n",
    "\n",
    "### A-stability of ERK methods\n",
    "<br>\n",
    "<b>Problem 7.</b> Could an ERK method be A-stable?\n"
   ]
  }
 ],
 "metadata": {
  "kernelspec": {
   "display_name": "Octave",
   "language": "octave",
   "name": "octave"
  },
  "language_info": {
   "file_extension": ".m",
   "help_links": [
    {
     "text": "GNU Octave",
     "url": "https://www.gnu.org/software/octave/support.html"
    },
    {
     "text": "Octave Kernel",
     "url": "https://github.com/Calysto/octave_kernel"
    },
    {
     "text": "MetaKernel Magics",
     "url": "https://github.com/calysto/metakernel/blob/master/metakernel/magics/README.md"
    }
   ],
   "mimetype": "text/x-octave",
   "name": "octave",
   "version": "4.2.2"
  }
 },
 "nbformat": 4,
 "nbformat_minor": 1
}

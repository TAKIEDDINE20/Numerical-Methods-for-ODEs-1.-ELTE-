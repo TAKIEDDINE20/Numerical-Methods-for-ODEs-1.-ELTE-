{
 "cells": [
  {
   "cell_type": "markdown",
   "metadata": {},
   "source": [
    "## Problem Sheet #7\n",
    "\n",
    "<br>\n",
    "## Numerical methods for nonlinear equations\n",
    "<br>\n",
    "### <a href=\"https://en.wikipedia.org/wiki/Fixed-point_iteration\">Fixed-point iteration</a>\n",
    "<br>\n",
    "\n",
    "<b>Problem 1.</b> Let us consider the equation $x^2-x-6=0,\\ x\\in[1,4]$. Write a fixed-point iteration code which iterates $maxit$ times starting from $x=1$. Precalculate a contraction map."
   ]
  },
  {
   "cell_type": "code",
   "execution_count": 1,
   "metadata": {},
   "outputs": [
    {
     "name": "stdout",
     "output_type": "stream",
     "text": [
      "x =  2.99999999407076\n"
     ]
    }
   ],
   "source": [
    "x=1; varphi='sqrt(x+6)'; maxit=11;\n",
    "format long\n",
    "it=0;\n",
    "while it<maxit\n",
    "   it=it+1;\n",
    "   x=eval(varphi);\n",
    "end;\n",
    "x"
   ]
  },
  {
   "cell_type": "markdown",
   "metadata": {},
   "source": [
    "<br>\n",
    "<b>Problem 2.</b> Write a fixed-point iteration code with the following stopping criteria\n",
    "\n",
    "+ $|x_{k+1}-x_k|/|x_k|<TOL$\n",
    "+ maximal number of iterations <br><br>\n",
    "\n",
    "The input parameters should be the starting value, the contraction map and the stopping criteria. Test your code for the following nonlinear equations:\n",
    "+ $x^2-x-6=0,\\ x\\in[1,4],\\ x_0=1$\n",
    "+ $x^2-2=0,\\ x\\in[1,2],\\ x_0=1$\n",
    "+ $x=\\cos(x),\\ x\\in[0,1],\\ x_0=0$"
   ]
  },
  {
   "cell_type": "code",
   "execution_count": 1,
   "metadata": {},
   "outputs": [
    {
     "name": "stdout",
     "output_type": "stream",
     "text": [
      "xnum =  1.41421356237309\n",
      "iter =  5\n",
      "ans =  1.41421356237310\n"
     ]
    }
   ],
   "source": [
    "format long\n",
    "[xnum iter] = fixedpoint(1,@(x)(1/2*(x+2/x)),1e-10,100)\n",
    "sqrt(2)"
   ]
  },
  {
   "cell_type": "markdown",
   "metadata": {},
   "source": [
    "<br>\n",
    "### <a href=\"https://en.wikipedia.org/wiki/Newton%27s_method\">Newton's method</a>\n",
    "<br>\n",
    "\n",
    "<b>Problem 3.</b> Let us consider the equation $x^2-x-6=0,\\ x\\in[1,4]$. Write Newton's method code which iterates $maxit$ times starting from $x=1$. <br>"
   ]
  },
  {
   "cell_type": "code",
   "execution_count": 7,
   "metadata": {},
   "outputs": [
    {
     "name": "stdout",
     "output_type": "stream",
     "text": [
      "x =  3.00000000002686\n"
     ]
    }
   ],
   "source": [
    "% Newton's method\n",
    "format long\n",
    "x=1; f='x^2-x-6'; fder='2*x-1'; maxit=6;\n",
    "format long\n",
    "it=0;\n",
    "while it<maxit\n",
    "   it=it+1;\n",
    "   x=x-eval(f)/eval(fder);\n",
    "end;\n",
    "x"
   ]
  },
  {
   "cell_type": "markdown",
   "metadata": {},
   "source": [
    "<br>\n",
    "<b>Problem 4.</b> Write a Newton's method code with the following stopping criteria\n",
    "\n",
    "+ $|x_{k+1}-x_k|/|x_k|<TOL$\n",
    "+ maximal number of iterations <br><br>\n",
    "\n",
    "The input parameters should be the starting value, the function $f$ and its derivative and the stopping criteria. Test your code for the following nonlinear equations:\n",
    "+ $x^2-x-6=0,\\ x\\in[1,4]$\n",
    "+ $x^2-2=0,\\ x\\in[1,2]$\n",
    "+ $x=\\cos(x),\\ x\\in[0,1]$"
   ]
  },
  {
   "cell_type": "code",
   "execution_count": 9,
   "metadata": {},
   "outputs": [
    {
     "name": "stdout",
     "output_type": "stream",
     "text": [
      "xnum =  1.41421568627451\n",
      "iter =  3\n"
     ]
    }
   ],
   "source": [
    "format long\n",
    "%[xnum iter] = newton(0,@(x)(x-cos(x)),@(x)(1+sin(x)),1e-10,50\n",
    "[xnum iter] = newton(1,@(x)(x^2-2),@(x)(2*x),1e-2,50)"
   ]
  },
  {
   "cell_type": "markdown",
   "metadata": {},
   "source": [
    "<br>\n",
    "### <a href=\"https://en.wikipedia.org/wiki/Backward_Euler_method\">Implicit Euler</a> (Backward Euler)\n",
    "<br>\n",
    "\n",
    "<b>Problem 5.</b> Write the Impilicit Euler method's code by using Newton's method with the learned stopping criteria<br><br>\n",
    "\n",
    "Apply the method to the given problems. Plot the numerical and analytical solutions on the same figure. Measure the global error vector in maximum norm. What can we experience?<br><br>\n",
    "\n",
    "(a) \\begin{cases}\n",
    "u'(t)= u(t)+t&\\\\\n",
    "u(0)=2, &\n",
    "\\end{cases}\n",
    "The analytical solution is $u(t)=3e^{t}-t+1$.<br><br>"
   ]
  },
  {
   "cell_type": "code",
   "execution_count": 2,
   "metadata": {},
   "outputs": [
    {
     "name": "stdout",
     "output_type": "stream",
     "text": [
      "ans =  0.13118\n"
     ]
    },
    {
     "data": {
      "image/png": "[encoded data removed]",
      "text/plain": [
       "<IPython.core.display.Image object>"
      ]
     },
     "metadata": {},
     "output_type": "display_data"
    }
   ],
   "source": [
    "[t,y,it]=impliciteuler(0,1,2,32,1e-4,10);\n",
    "exact=3*exp(t)-t-1;\n",
    "plot(t,y,'b',t,exact,'r')\n",
    "legend('Numerical','Exact')\n",
    "norm(exact-y,'inf')"
   ]
  },
  {
   "cell_type": "markdown",
   "metadata": {},
   "source": [
    "<br>\n",
    "(b) \\begin{cases}\n",
    "u'(t)= -u^2(t)&\\\\\n",
    "u(1)=1 & \n",
    "\\end{cases}\n",
    "\n",
    "The analytical solution is $u(t)=\\frac{1}{t}$.<br><br>"
   ]
  },
  {
   "cell_type": "code",
   "execution_count": 4,
   "metadata": {},
   "outputs": [
    {
     "name": "stdout",
     "output_type": "stream",
     "text": [
      "ans =  0.016208\n"
     ]
    },
    {
     "data": {
      "image/png": "[encoded data removed]",
      "text/plain": [
       "<IPython.core.display.Image object>"
      ]
     },
     "metadata": {},
     "output_type": "display_data"
    }
   ],
   "source": [
    "[t,y,it]=impliciteuler(1,4,1,32,1e-4,10);\n",
    "exact=1./t;\n",
    "plot(t,y,'b',t,exact,'r')\n",
    "legend('Numerical','Exact')\n",
    "norm(exact-y,'inf')"
   ]
  },
  {
   "cell_type": "markdown",
   "metadata": {},
   "source": [
    "<br>\n",
    "(c) \\begin{cases}\n",
    "u'(t)= -u(t)+t+1&\\\\\n",
    "u(0)=1 & \n",
    "\\end{cases}\n",
    "The analytical solution is $u(t)=e^{-t}+t$.<br><br>"
   ]
  },
  {
   "cell_type": "code",
   "execution_count": 5,
   "metadata": {},
   "outputs": [
    {
     "name": "stdout",
     "output_type": "stream",
     "text": [
      "ans =  0.0056744\n"
     ]
    },
    {
     "data": {
      "image/png": "[encoded data removed]",
      "text/plain": [
       "<IPython.core.display.Image object>"
      ]
     },
     "metadata": {},
     "output_type": "display_data"
    }
   ],
   "source": [
    "[t,y,it]=impliciteuler(0,1,1,32,1e-4,10);\n",
    "exact=exp(-t)+t;\n",
    "plot(t,y,'b',t,exact,'r')\n",
    "legend('Numerical','Exact')\n",
    "norm(exact-y,'inf')"
   ]
  }
 ],
 "metadata": {
  "kernelspec": {
   "display_name": "Octave",
   "language": "octave",
   "name": "octave"
  },
  "language_info": {
   "file_extension": ".m",
   "help_links": [
    {
     "text": "GNU Octave",
     "url": "https://www.gnu.org/software/octave/support.html"
    },
    {
     "text": "Octave Kernel",
     "url": "https://github.com/Calysto/octave_kernel"
    },
    {
     "text": "MetaKernel Magics",
     "url": "https://github.com/calysto/metakernel/blob/master/metakernel/magics/README.md"
    }
   ],
   "mimetype": "text/x-octave",
   "name": "octave",
   "version": "4.2.2"
  }
 },
 "nbformat": 4,
 "nbformat_minor": 2
}
